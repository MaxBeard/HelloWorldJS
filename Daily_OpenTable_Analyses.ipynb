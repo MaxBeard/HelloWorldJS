{
  "nbformat": 4,
  "nbformat_minor": 0,
  "metadata": {
    "colab": {
      "name": "Daily OpenTable Analyses",
      "provenance": [],
      "collapsed_sections": [],
      "include_colab_link": true
    },
    "kernelspec": {
      "name": "python3",
      "display_name": "Python 3"
    }
  },
  "cells": [
    {
      "cell_type": "markdown",
      "metadata": {
        "id": "view-in-github",
        "colab_type": "text"
      },
      "source": [
        "<a href=\"https://colab.research.google.com/github/MaxBeard/HelloWorldJS/blob/master/Daily_OpenTable_Analyses.ipynb\" target=\"_parent\"><img src=\"https://colab.research.google.com/assets/colab-badge.svg\" alt=\"Open In Colab\"/></a>"
      ]
    },
    {
      "cell_type": "markdown",
      "metadata": {
        "id": "tc6mO6FUlwmG",
        "colab_type": "text"
      },
      "source": [
        "# Intro"
      ]
    },
    {
      "cell_type": "markdown",
      "metadata": {
        "id": "F6wVoE4Ckvhb",
        "colab_type": "text"
      },
      "source": [
        "Hello everyone. Thanks for checking out my work. I will have plenty more to come too.\n",
        "\n",
        "Please feel free to reach out with tips, criticism, or ways I can help you at johnjtomczak@icloud.com"
      ]
    },
    {
      "cell_type": "markdown",
      "metadata": {
        "id": "3Q-WRV5OmHRQ",
        "colab_type": "text"
      },
      "source": [
        "I found this data set a few days ago a few times. It was all over Hacker News and Twitter and maybe an email newsletter or two. I am using it as a muse to learn some Python data science and modeling tools. Enjoy."
      ]
    },
    {
      "cell_type": "markdown",
      "metadata": {
        "id": "zlcofWIOl_lS",
        "colab_type": "text"
      },
      "source": [
        "# Importing and Formatting"
      ]
    },
    {
      "cell_type": "code",
      "metadata": {
        "id": "MoLaAKPcwS85",
        "colab_type": "code",
        "colab": {}
      },
      "source": [
        "# the 'capture' magic suppresses the pip output below\n",
        "%%capture\n",
        "!pip install xlrd\n",
        "!pip install psycopg2"
      ],
      "execution_count": 0,
      "outputs": []
    },
    {
      "cell_type": "code",
      "metadata": {
        "id": "njmn2ElbxlTZ",
        "colab_type": "code",
        "colab": {}
      },
      "source": [
        "%matplotlib inline\n",
        "import pandas as pd\n",
        "import numpy as np\n",
        "import seaborn as sns\n",
        "import matplotlib.pyplot as plt\n",
        "import sys\n",
        "import datetime\n",
        "from scipy.stats import norm"
      ],
      "execution_count": 0,
      "outputs": []
    },
    {
      "cell_type": "code",
      "metadata": {
        "id": "OydXeoO2xsJw",
        "colab_type": "code",
        "outputId": "d99af1ba-0bbf-4df3-f3a8-871e3b0f45d1",
        "colab": {
          "base_uri": "https://localhost:8080/",
          "height": 51
        }
      },
      "source": [
        "latest = '03_19'\n",
        "print( latest )\n",
        "fl = \"https://github.com/johntomczak/Corona_DA/blob/master/opentable_\"+str(latest)+\".xlsx?raw=true\"\n",
        "\n",
        "print( latest )\n",
        "d1 = pd.read_excel(fl)\n",
        "d1 = d1.set_index('Name')"
      ],
      "execution_count": 0,
      "outputs": [
        {
          "output_type": "stream",
          "text": [
            "03_19\n",
            "03_19\n"
          ],
          "name": "stdout"
        }
      ]
    },
    {
      "cell_type": "code",
      "metadata": {
        "id": "GLeingwf2tE8",
        "colab_type": "code",
        "colab": {}
      },
      "source": [
        "# please blame my friend Rem if you go blind on this one - he is the King of One-Lining\n",
        "d1.columns = pd.Series(d1.columns).apply(lambda x: x.strftime('%m_%d') if type(x) != str else x)"
      ],
      "execution_count": 0,
      "outputs": []
    },
    {
      "cell_type": "code",
      "metadata": {
        "id": "4aCv-2FE3Ltk",
        "colab_type": "code",
        "colab": {}
      },
      "source": [
        "# NOLA has to go because of Mardi Gras moving around on the calendar\n",
        "d1 = d1.drop('New Orleans')\n",
        "# just want to stick to N. Am. cities, idk\n",
        "d1 = d1.drop('London')\n",
        "d1 = d1.drop('Hamburg')\n",
        "d1 = d1.drop('Munchen')\n",
        "d1 = d1.drop('Dublin')"
      ],
      "execution_count": 0,
      "outputs": []
    },
    {
      "cell_type": "code",
      "metadata": {
        "id": "Fy96kxhR7DMn",
        "colab_type": "code",
        "outputId": "aa29e4f6-74fc-4c94-d229-7a7d3a64d646",
        "colab": {
          "base_uri": "https://localhost:8080/",
          "height": 170
        }
      },
      "source": [
        "info = d1.describe()\n",
        "print( info.iloc[:,-3:] )"
      ],
      "execution_count": 0,
      "outputs": [
        {
          "output_type": "stream",
          "text": [
            "            03_17       03_18       03_19\n",
            "count   43.000000   43.000000   43.000000\n",
            "mean   -92.465116  -96.930233  -98.093023\n",
            "std     10.929098    6.250316    4.607519\n",
            "min   -100.000000 -100.000000 -100.000000\n",
            "25%   -100.000000 -100.000000 -100.000000\n",
            "50%    -99.000000 -100.000000 -100.000000\n",
            "75%    -88.000000  -97.000000  -99.500000\n",
            "max    -55.000000  -75.000000  -83.000000\n"
          ],
          "name": "stdout"
        }
      ]
    },
    {
      "cell_type": "markdown",
      "metadata": {
        "id": "bEf_5AwkLI9_",
        "colab_type": "text"
      },
      "source": [
        "# Analyses"
      ]
    },
    {
      "cell_type": "markdown",
      "metadata": {
        "id": "ZY178CDm2R29",
        "colab_type": "text"
      },
      "source": [
        ""
      ]
    },
    {
      "cell_type": "code",
      "metadata": {
        "id": "Heq-Gh9C665X",
        "colab_type": "code",
        "outputId": "a1bc857d-1a76-48a9-fd0a-3c072ff50706",
        "colab": {
          "base_uri": "https://localhost:8080/",
          "height": 51
        }
      },
      "source": [
        "dt = datetime.datetime.now() - datetime.timedelta(days=1) - datetime.timedelta(hours=4)\n",
        "print(dt)\n",
        "t0s = dt\n",
        "t0 = t0s.strftime('%m_%d')\n",
        "print(t0)\n",
        "t1s = t0s - datetime.timedelta(days=1)\n",
        "t1 = t1s.strftime('%m_%d')\n",
        "t2s = t1s - datetime.timedelta(days=1)\n",
        "t2 = t2s.strftime('%m_%d')"
      ],
      "execution_count": 0,
      "outputs": [
        {
          "output_type": "stream",
          "text": [
            "2020-03-19 23:19:36.766969\n",
            "03_19\n"
          ],
          "name": "stdout"
        }
      ]
    },
    {
      "cell_type": "code",
      "metadata": {
        "id": "bQoxRLEB3OqU",
        "colab_type": "code",
        "outputId": "f6a44d36-ed38-4e96-981d-8433dab49675",
        "colab": {
          "base_uri": "https://localhost:8080/",
          "height": 315
        }
      },
      "source": [
        "dist_today = sns.distplot( d1[t0], bins=25, norm_hist=True )\n",
        "plt.title( 'Wednesday, March 18')\n",
        "plt.xlabel( 'YoY Seatings Delta (bin width == 1), ratio' )\n",
        "plt.ylabel( 'Count of Reports' )\n",
        "# ax2 = plt.axes([0.65, 0.65, 0.2, 0.2])\n",
        "# print( str( sum( d1[t0]<=-1) )+\" shutdown\" )"
      ],
      "execution_count": 0,
      "outputs": [
        {
          "output_type": "execute_result",
          "data": {
            "text/plain": [
              "Text(0, 0.5, 'Count of Reports')"
            ]
          },
          "metadata": {
            "tags": []
          },
          "execution_count": 51
        },
        {
          "output_type": "display_data",
          "data": {
            "image/png": "[encoded data removed]",
            "text/plain": [
              "<Figure size 432x288 with 1 Axes>"
            ]
          },
          "metadata": {
            "tags": []
          }
        }
      ]
    },
    {
      "cell_type": "markdown",
      "metadata": {
        "id": "2G_h9_1B173U",
        "colab_type": "text"
      },
      "source": [
        "This is just calculating the dates for the last 3 days - used below."
      ]
    },
    {
      "cell_type": "code",
      "metadata": {
        "id": "Zsw8L4N23LSx",
        "colab_type": "code",
        "outputId": "36f415a3-3bfb-405b-9a75-421b61c1ac26",
        "colab": {
          "base_uri": "https://localhost:8080/",
          "height": 487
        }
      },
      "source": [
        "plt.style.use('classic')\n",
        "y1 = sns.distplot( d1[t0], bins=10, norm_hist=False )\n",
        "y2= sns.distplot( d1[t1], bins=10, norm_hist=False )\n",
        "y3 = sns.distplot( d1[t2], bins=10, norm_hist=False )\n",
        "plt.legend( [str(t0), str(t1), str(t2)] )\n",
        "plt.xlabel( 'YoY Seatings Delta (bin width == 5), ratio' )\n",
        "plt.ylabel( 'Count of Reports' )\n",
        "plt.title( 'Past 3 Days Cities Distribution' )"
      ],
      "execution_count": 0,
      "outputs": [
        {
          "output_type": "execute_result",
          "data": {
            "text/plain": [
              "Text(0.5, 1.0, 'Past 3 Days Cities Distribution')"
            ]
          },
          "metadata": {
            "tags": []
          },
          "execution_count": 52
        },
        {
          "output_type": "display_data",
          "data": {
            "image/png": "[encoded data removed]",
            "text/plain": [
              "<Figure size 640x480 with 1 Axes>"
            ]
          },
          "metadata": {
            "tags": []
          }
        }
      ]
    },
    {
      "cell_type": "code",
      "metadata": {
        "id": "YaK8Is4ky-OK",
        "colab_type": "code",
        "colab": {}
      },
      "source": [
        ""
      ],
      "execution_count": 0,
      "outputs": []
    },
    {
      "cell_type": "code",
      "metadata": {
        "id": "UdLQTDbv3U8B",
        "colab_type": "code",
        "outputId": "d6951b5e-4132-4a98-c588-50117fd50fc0",
        "colab": {
          "base_uri": "https://localhost:8080/",
          "height": 986
        }
      },
      "source": [
        "print( t0 )\n",
        "print( d1[t0].sort_values() )\n",
        "print( \"shutdown \" + str( sum( d1[t0]<=-0.995) ) )\n",
        "print ( sum( d1[t0]==-1) / d1[t0].describe()['count'] )\n",
        "print( d1[t0].describe() )"
      ],
      "execution_count": 0,
      "outputs": [
        {
          "output_type": "stream",
          "text": [
            "03_19\n",
            "Name\n",
            "Miami Beach               -100\n",
            "Miami                     -100\n",
            "Vancouver                 -100\n",
            "Minneapolis               -100\n",
            "New York                  -100\n",
            "Philadelphia              -100\n",
            "Phoenix                   -100\n",
            "Pittsburgh                -100\n",
            "Portland                  -100\n",
            "Raleigh                   -100\n",
            "San Antonio               -100\n",
            "San Diego                 -100\n",
            "San Francisco             -100\n",
            "San Pedro Garza Garc√≠a   -100\n",
            "Seattle                   -100\n",
            "Toronto                   -100\n",
            "Louisville                -100\n",
            "Los Angeles               -100\n",
            "Washington                -100\n",
            "Indianapolis              -100\n",
            "Austin                    -100\n",
            "Baltimore                 -100\n",
            "Boston                    -100\n",
            "Charlotte                 -100\n",
            "Chicago                   -100\n",
            "Cincinnati                -100\n",
            "Las Vegas                 -100\n",
            "Dallas                    -100\n",
            "Columbus                  -100\n",
            "Fort Lauderdale           -100\n",
            "Houston                   -100\n",
            "Denver                    -100\n",
            "Edmonton                   -99\n",
            "Nashville                  -99\n",
            "Montreal                   -99\n",
            "Calgary                    -99\n",
            "Atlanta                    -97\n",
            "Orlando                    -93\n",
            "Scottsdale                 -93\n",
            "Ciudad de Mexico           -86\n",
            "Tampa                      -86\n",
            "Naples                     -84\n",
            "Honolulu                   -83\n",
            "Name: 03_19, dtype: int64\n",
            "shutdown 43\n",
            "0.0\n",
            "count     43.000000\n",
            "mean     -98.093023\n",
            "std        4.607519\n",
            "min     -100.000000\n",
            "25%     -100.000000\n",
            "50%     -100.000000\n",
            "75%      -99.500000\n",
            "max      -83.000000\n",
            "Name: 03_19, dtype: float64\n"
          ],
          "name": "stdout"
        }
      ]
    }
  ]
}